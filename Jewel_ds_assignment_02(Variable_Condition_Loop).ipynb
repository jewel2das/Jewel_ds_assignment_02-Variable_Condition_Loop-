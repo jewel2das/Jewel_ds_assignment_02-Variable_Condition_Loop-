{
 "cells": [
  {
   "cell_type": "markdown",
   "id": "a402a8d6",
   "metadata": {},
   "source": [
    "# Variable"
   ]
  },
  {
   "cell_type": "code",
   "execution_count": 1,
   "id": "9ea59491",
   "metadata": {},
   "outputs": [
    {
     "name": "stdout",
     "output_type": "stream",
     "text": [
      "<class 'int'>\n",
      "<class 'str'>\n",
      "<class 'float'>\n",
      "<class 'bool'>\n",
      "Integer Variable : 300\n",
      "String Variable : Data Science\n",
      "Float Variable : 45.3\n",
      "Boolean Variable : True\n"
     ]
    }
   ],
   "source": [
    "# varNameInt=100\n",
    "varNameInt=300\n",
    "VarNameStr='Data Science'\n",
    "var_name_flt=45.3\n",
    "var_name_bool=True\n",
    "#Variable Type\n",
    "print(type(varNameInt))\n",
    "print(type(VarNameStr))\n",
    "print(type(var_name_flt))\n",
    "print(type(var_name_bool))\n",
    "#Print Variable\n",
    "print('Integer Variable :',varNameInt)\n",
    "print('String Variable :',VarNameStr)\n",
    "print('Float Variable :',var_name_flt)\n",
    "print('Boolean Variable :',var_name_bool)"
   ]
  },
  {
   "cell_type": "code",
   "execution_count": 2,
   "id": "095e2ca7",
   "metadata": {},
   "outputs": [
    {
     "name": "stdout",
     "output_type": "stream",
     "text": [
      "10\n",
      "11\n",
      "12\n"
     ]
    }
   ],
   "source": [
    "#Multiple Variable\n",
    "var_one, var_two, var_three=10,11,12\n",
    "print(var_one)\n",
    "print(var_two)\n",
    "print(var_three)"
   ]
  },
  {
   "cell_type": "code",
   "execution_count": 3,
   "id": "81703faa",
   "metadata": {},
   "outputs": [
    {
     "name": "stdout",
     "output_type": "stream",
     "text": [
      "25 25 25\n"
     ]
    }
   ],
   "source": [
    "var_one=var_two=var_three=25\n",
    "print(var_one,var_two,var_three)"
   ]
  },
  {
   "cell_type": "markdown",
   "id": "ac3d59e0",
   "metadata": {},
   "source": [
    "# input() Function"
   ]
  },
  {
   "cell_type": "code",
   "execution_count": 11,
   "id": "d7e7c4fe",
   "metadata": {},
   "outputs": [
    {
     "name": "stdout",
     "output_type": "stream",
     "text": [
      "Please enter two Integer Number:\n",
      "Enter 1st Integer Number:\n",
      "0\n",
      "Please Re-enter the Integer Number: \n",
      "0\n",
      "Please Re-enter the Integer Number: \n",
      "12\n",
      "Enter 2nd Integer Number:\n",
      "-12\n",
      "Please Re-enter the Integer Number: \n",
      "-1\n",
      "Please Re-enter the Integer Number: \n",
      "32\n",
      "Addition of two Number is : 44\n"
     ]
    }
   ],
   "source": [
    "def myfunc():\n",
    "    num=int(input())\n",
    "    if num>0:\n",
    "        return num\n",
    "    else:\n",
    "        print('Please Re-enter the Integer Number: ')\n",
    "        return(myfunc())\n",
    "          \n",
    "print('Please enter two Integer Number:')\n",
    "print('Enter 1st Integer Number:')\n",
    "var1=myfunc()\n",
    "print('Enter 2nd Integer Number:')\n",
    "var2=myfunc()\n",
    "var3=var1+var2\n",
    "print('Addition of two Number is :',var3)"
   ]
  },
  {
   "cell_type": "markdown",
   "id": "15583887",
   "metadata": {},
   "source": [
    "# Loop"
   ]
  },
  {
   "cell_type": "code",
   "execution_count": 15,
   "id": "c14d93fb",
   "metadata": {},
   "outputs": [
    {
     "name": "stdout",
     "output_type": "stream",
     "text": [
      "range(1, 10, 2)\n",
      "1\n",
      "3\n",
      "5\n",
      "7\n",
      "9\n"
     ]
    }
   ],
   "source": [
    "var_range=range(1,10,2)\n",
    "print(var_range)\n",
    "for i in var_range:\n",
    "    print(i)"
   ]
  },
  {
   "cell_type": "code",
   "execution_count": 22,
   "id": "7cc56432",
   "metadata": {},
   "outputs": [
    {
     "name": "stdout",
     "output_type": "stream",
     "text": [
      "Data Science\n",
      "Data Science\n",
      "Data Science\n",
      "Data Science\n"
     ]
    }
   ],
   "source": [
    "i=1\n",
    "while i<5:\n",
    "    print('Data Science')\n",
    "    i+=1"
   ]
  },
  {
   "cell_type": "markdown",
   "id": "ac5b3f08",
   "metadata": {},
   "source": [
    "# Example - Take values of length and breadth of a rectangle from user input() and check if it is square or not"
   ]
  },
  {
   "cell_type": "code",
   "execution_count": 26,
   "id": "93fb1025",
   "metadata": {},
   "outputs": [
    {
     "name": "stdout",
     "output_type": "stream",
     "text": [
      "Please Enter the Length:12\n",
      "Please Enter the Breadth:12\n",
      "It is a Rectangle\n"
     ]
    }
   ],
   "source": [
    "length_rec=int(input('Please Enter the Length:'))\n",
    "breadth_rec=int(input('Please Enter the Breadth:'))\n",
    "if length_rec==breadth_rec:\n",
    "    print('It is a Rectangle')\n",
    "else:\n",
    "    print('It is not a Rectangle')"
   ]
  },
  {
   "cell_type": "markdown",
   "id": "e9bd5c7b",
   "metadata": {},
   "source": [
    "# Example - Take three integer values from user and print greatest among them"
   ]
  },
  {
   "cell_type": "code",
   "execution_count": 29,
   "id": "973b829f",
   "metadata": {},
   "outputs": [
    {
     "name": "stdout",
     "output_type": "stream",
     "text": [
      "Please enter Three No:\n",
      "Please Enter the 1st No:121\n",
      "Please Enter the 2nd No:134\n",
      "Please Enter the 1st No:999\n",
      "3rd Number is greater 999\n"
     ]
    }
   ],
   "source": [
    "print('Please enter Three No:')\n",
    "num_1=int(input('Please Enter the 1st No:'))\n",
    "num_2=int(input('Please Enter the 2nd No:'))\n",
    "num_3=int(input('Please Enter the 1st No:'))\n",
    "if num_1>num_2 & num_1>num_3:\n",
    "    print('1st Number is greater',num_1)\n",
    "elif num_2>num_1 & num_2>num_3:\n",
    "    print('2nd Number is greater',num_2)\n",
    "else:\n",
    "    print('3rd Number is greater',num_3)"
   ]
  }
 ],
 "metadata": {
  "kernelspec": {
   "display_name": "Python 3 (ipykernel)",
   "language": "python",
   "name": "python3"
  },
  "language_info": {
   "codemirror_mode": {
    "name": "ipython",
    "version": 3
   },
   "file_extension": ".py",
   "mimetype": "text/x-python",
   "name": "python",
   "nbconvert_exporter": "python",
   "pygments_lexer": "ipython3",
   "version": "3.9.12"
  }
 },
 "nbformat": 4,
 "nbformat_minor": 5
}
